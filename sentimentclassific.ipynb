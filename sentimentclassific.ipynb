{
 "cells": [
  {
   "cell_type": "code",
   "execution_count": 29,
   "id": "75e7c338-534b-4a49-8b94-2f99556054a6",
   "metadata": {},
   "outputs": [
    {
     "name": "stdout",
     "output_type": "stream",
     "text": [
      "Text: it is not worthy.\n",
      "Sentiment: Negative\n",
      "Sentiment Scores: {'neg': 0.445, 'neu': 0.555, 'pos': 0.0, 'compound': -0.3412}\n"
     ]
    }
   ],
   "source": [
    "\n",
    "\n",
    "# Import the SentimentIntensityAnalyzer class\n",
    "from vaderSentiment.vaderSentiment import SentimentIntensityAnalyzer\n",
    "\n",
    "# Initialize the analyzer\n",
    "analyzer = SentimentIntensityAnalyzer()\n",
    "\n",
    "# Function to analyze sentiment\n",
    "def analyze_sentiment(text):\n",
    "    # Get the sentiment scores\n",
    "    sentiment_scores = analyzer.polarity_scores(text)\n",
    "    \n",
    "    # Determine sentiment based on the compound score\n",
    "    compound_score = sentiment_scores['compound']\n",
    "    \n",
    "    if compound_score >= 0.23:\n",
    "        sentiment = \"Positive\"\n",
    "    elif compound_score <= -0.02:\n",
    "        sentiment = \"Negative\"\n",
    "    else:\n",
    "        sentiment = \"Neutral\"\n",
    "    \n",
    "    return sentiment, sentiment_scores\n",
    "\n",
    "# Example text for analysis\n",
    "text = \"it is not worthy.\"\n",
    "\n",
    "# Analyze sentiment\n",
    "sentiment, scores = analyze_sentiment(text)\n",
    "\n",
    "# Print results\n",
    "print(\"Text:\", text)\n",
    "print(\"Sentiment:\", sentiment)\n",
    "print(\"Sentiment Scores:\", scores)"
   ]
  },
  {
   "cell_type": "code",
   "execution_count": null,
   "id": "7c6276b9-27f6-4784-8a7e-9c4e0bd53595",
   "metadata": {},
   "outputs": [],
   "source": []
  }
 ],
 "metadata": {
  "kernelspec": {
   "display_name": "Python 3 (ipykernel)",
   "language": "python",
   "name": "python3"
  },
  "language_info": {
   "codemirror_mode": {
    "name": "ipython",
    "version": 3
   },
   "file_extension": ".py",
   "mimetype": "text/x-python",
   "name": "python",
   "nbconvert_exporter": "python",
   "pygments_lexer": "ipython3",
   "version": "3.13.2"
  }
 },
 "nbformat": 4,
 "nbformat_minor": 5
}
