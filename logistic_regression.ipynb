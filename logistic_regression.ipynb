{
 "cells": [
  {
   "cell_type": "code",
   "execution_count": 2,
   "id": "b53b5992-ef1f-44df-a1ee-bf5e2cb30668",
   "metadata": {},
   "outputs": [
    {
     "name": "stdout",
     "output_type": "stream",
     "text": [
      "\n",
      "Accuracy: 0.7932960893854749\n",
      "\n",
      "Confusion Matrix:\n",
      " [[89 16]\n",
      " [21 53]]\n",
      "\n",
      "Classification Report:\n",
      "               precision    recall  f1-score   support\n",
      "\n",
      "           0       0.81      0.85      0.83       105\n",
      "           1       0.77      0.72      0.74        74\n",
      "\n",
      "    accuracy                           0.79       179\n",
      "   macro avg       0.79      0.78      0.78       179\n",
      "weighted avg       0.79      0.79      0.79       179\n",
      "\n",
      "\n",
      "Prediction: 0\n"
     ]
    }
   ],
   "source": [
    "# Import libraries\n",
    "import pandas as pd\n",
    "from sklearn.model_selection import train_test_split\n",
    "from sklearn.linear_model import LogisticRegression\n",
    "from sklearn.metrics import accuracy_score, classification_report, confusion_matrix\n",
    "from sklearn.preprocessing import StandardScaler\n",
    "\n",
    "# 1. Load dataset\n",
    "url = \"https://raw.githubusercontent.com/datasciencedojo/datasets/master/titanic.csv\"\n",
    "data = pd.read_csv(url)\n",
    "\n",
    "# 2. Preprocess data - PROPER WAY TO AVOID WARNINGS\n",
    "# Create a copy of the selected columns to avoid chained assignment\n",
    "X = data[['Pclass', 'Age', 'Fare', 'Sex']].copy()  # Key fix: .copy()\n",
    "y = data['Survived'].copy()\n",
    "\n",
    "# Convert 'Sex' to numeric (proper in-place modification)\n",
    "X.loc[:, 'Sex'] = X['Sex'].map({'male': 0, 'female': 1})  # Using .loc[]\n",
    "\n",
    "# Fill missing values (alternative method)\n",
    "age_median = data['Age'].median()\n",
    "X['Age'] = X['Age'].fillna(age_median)  # No inplace=True needed\n",
    "\n",
    "# 3. Split data\n",
    "X_train, X_test, y_train, y_test = train_test_split(X, y, test_size=0.2, random_state=42)\n",
    "\n",
    "# 4. Feature scaling\n",
    "scaler = StandardScaler()\n",
    "X_train_scaled = scaler.fit_transform(X_train)\n",
    "X_test_scaled = scaler.transform(X_test)\n",
    "\n",
    "# 5. Train model\n",
    "model = LogisticRegression()\n",
    "model.fit(X_train_scaled, y_train)\n",
    "\n",
    "# 6. Predictions\n",
    "y_pred = model.predict(X_test_scaled)\n",
    "\n",
    "# 7. Evaluation\n",
    "print(\"\\nAccuracy:\", accuracy_score(y_test, y_pred))\n",
    "print(\"\\nConfusion Matrix:\\n\", confusion_matrix(y_test, y_pred))\n",
    "print(\"\\nClassification Report:\\n\", classification_report(y_test, y_pred))\n",
    "\n",
    "# 8. Predict new sample\n",
    "new_passenger = pd.DataFrame([[2, 30, 50, 0]], \n",
    "                           columns=X.columns)  # Proper DataFrame with feature names\n",
    "new_passenger_scaled = scaler.transform(new_passenger)\n",
    "print(\"\\nPrediction:\", model.predict(new_passenger_scaled)[0])"
   ]
  },
  {
   "cell_type": "code",
   "execution_count": null,
   "id": "479ddd33-be45-44f7-8476-380897c722c9",
   "metadata": {},
   "outputs": [],
   "source": []
  }
 ],
 "metadata": {
  "kernelspec": {
   "display_name": "Python 3 (ipykernel)",
   "language": "python",
   "name": "python3"
  },
  "language_info": {
   "codemirror_mode": {
    "name": "ipython",
    "version": 3
   },
   "file_extension": ".py",
   "mimetype": "text/x-python",
   "name": "python",
   "nbconvert_exporter": "python",
   "pygments_lexer": "ipython3",
   "version": "3.13.2"
  }
 },
 "nbformat": 4,
 "nbformat_minor": 5
}
